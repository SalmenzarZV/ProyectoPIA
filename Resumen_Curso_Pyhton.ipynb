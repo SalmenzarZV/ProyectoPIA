{
  "nbformat": 4,
  "nbformat_minor": 0,
  "metadata": {
    "colab": {
      "provenance": [],
      "collapsed_sections": [],
      "authorship_tag": "ABX9TyOr3YJ9tgr8K0X+kpsDmJaT",
      "include_colab_link": true
    },
    "kernelspec": {
      "name": "python3",
      "display_name": "Python 3"
    },
    "language_info": {
      "name": "python"
    }
  },
  "cells": [
    {
      "cell_type": "markdown",
      "metadata": {
        "id": "view-in-github",
        "colab_type": "text"
      },
      "source": [
        "<a href=\"https://colab.research.google.com/github/SalmenzarZV/ProyectoPIA/blob/main/Resumen_Curso_Pyhton.ipynb\" target=\"_parent\"><img src=\"https://colab.research.google.com/assets/colab-badge.svg\" alt=\"Open In Colab\"/></a>"
      ]
    },
    {
      "cell_type": "markdown",
      "source": [
        "# Introducción\n",
        "\n",
        "Python es un lenguaje de programación:\n",
        "\n",
        "* **De alto nivel**\n",
        "* **De propósito general**\n",
        "* **Interpretado**\n",
        "\n",
        "Una de las características mas conocidas de Pyhton es la **simplicidad** de su sintáxis comparada con algunos de sus hermanos, haciendo que la **curva de aprendizaje** para aprender este lenguaje **no sea muy dura** y haciendo a este lenguaje un **buen punto de patida para aprender a programar.**\n",
        "\n",
        "Esto ha favorecido su adopción masivamente por perfiles que no están directamente relacionados con el sector de la informática como puede ser la física o las matemáticas en campos como la ciencia de datos, procesamiento de imágenes,  sistemas operativos e inteligencia artificial.\n",
        "\n",
        "Actualmente Python va por su Version 3, como primera interacción con este lenguaje de programación, aquí debajo dejo el código para ejecutar el famoso \"Hello World\" en python"
      ],
      "metadata": {
        "id": "bWj2gzwm5IZL"
      }
    },
    {
      "cell_type": "code",
      "source": [
        "print(\"Hello World!\")"
      ],
      "metadata": {
        "colab": {
          "base_uri": "https://localhost:8080/"
        },
        "id": "zL9rQOkACpya",
        "outputId": "1db4b880-693f-41e7-974a-91a705011ec6"
      },
      "execution_count": null,
      "outputs": [
        {
          "output_type": "stream",
          "name": "stdout",
          "text": [
            "Hello World!\n"
          ]
        }
      ]
    },
    {
      "cell_type": "markdown",
      "source": [
        "# Tipos de Variables\n",
        "\n",
        "\n",
        "**1. Numeros**\n",
        "\n",
        "- Enteros\n",
        "```\n",
        "num = 1 # Declaración de un numero entero\n",
        "```\n",
        "\n",
        "- Decimales en coma flotante (Floats)\n",
        "```\n",
        "num = 1.298374 # Declaración de un numero en coma flotante\n",
        "```\n",
        "- Numeros Complejos:\n",
        "```\n",
        "# Declaración de un número en coma flotante\n",
        "```\n",
        "\n",
        "**2. Booleanos**\n",
        "\n",
        "  Un tipo booleano solo puede contener dos valores:\n",
        "  - True\n",
        "  - False\n",
        "\n",
        "Los booleanos se usan para determinar la lógica de una expresión.\n",
        "\n",
        "**3. Cadenas (String)**\n",
        "\n",
        "Podríamos definir  cadena o string como una **lista de caracteres**, como aún no hemos visto las listas, lo dejaremos estar por el momento.\n",
        "```\n",
        "my_str = \"Esto es una cadena\" # Definición de una cadena\n",
        "my_str = 'Esto es una cadena' # También se puede definir con comillas simples\n",
        "```\n",
        "\n",
        "Aquí unos cuantos métodos que podemos usar con las cadenas\n",
        "\n",
        "***Longitud una cadena***"
      ],
      "metadata": {
        "id": "ZukT45No-_I7"
      }
    },
    {
      "cell_type": "code",
      "source": [
        "print(len(\"Longitud de mi cadena\"))"
      ],
      "metadata": {
        "colab": {
          "base_uri": "https://localhost:8080/"
        },
        "id": "YNtV49j6DRuO",
        "outputId": "f33d30c7-1bf3-488e-c2b9-842f2037a2f9"
      },
      "execution_count": null,
      "outputs": [
        {
          "output_type": "stream",
          "name": "stdout",
          "text": [
            "21\n"
          ]
        }
      ]
    },
    {
      "cell_type": "markdown",
      "source": [
        "***Acceder a un caracter de una cadena***"
      ],
      "metadata": {
        "id": "IqTZ9za7DZTY"
      }
    },
    {
      "cell_type": "code",
      "source": [
        "my_str = \"sample text\"\n",
        "\n",
        "#Imprimir el primer caracter (recordar que el primer índice es 0)\n",
        "print(my_str[0]) \n",
        "\n",
        "#Acceder al primer caracter sin saber la longitud de la cadena\n",
        "print(my_str[len(my_str) - 1])"
      ],
      "metadata": {
        "colab": {
          "base_uri": "https://localhost:8080/"
        },
        "id": "-i5n7-p2Di_7",
        "outputId": "5755a860-d300-429c-f1f2-c9257cb264ff"
      },
      "execution_count": null,
      "outputs": [
        {
          "output_type": "stream",
          "name": "stdout",
          "text": [
            "s\n",
            "t\n"
          ]
        }
      ]
    },
    {
      "cell_type": "markdown",
      "source": [
        "**¡OJO!** \n",
        "\n",
        "Es posible acceder a un determinado caracer **desde el final**, sabiendo que el último índice es *-1*, podemos recorrer la cadena **desde el final hasta el principio**"
      ],
      "metadata": {
        "id": "sCb57282FWuV"
      }
    },
    {
      "cell_type": "code",
      "source": [
        "# Accediendo al último elemento de la cadena\n",
        "print(my_str[-1])\n",
        "\n",
        "# Accediento al primer elemento de la cadena (my_str[0])\n",
        "print(my_str[-11])"
      ],
      "metadata": {
        "colab": {
          "base_uri": "https://localhost:8080/"
        },
        "id": "oGWcUFgdF6z5",
        "outputId": "7025bc99-5f0a-4fa6-a377-5bd58dc9026f"
      },
      "execution_count": null,
      "outputs": [
        {
          "output_type": "stream",
          "name": "stdout",
          "text": [
            "t\n",
            "s\n"
          ]
        }
      ]
    },
    {
      "cell_type": "markdown",
      "source": [
        "No es posible modificar un caracter en concreto de una cadena\n",
        "```\n",
        "my_str[0] = 'A' # ERROR\n",
        "```\n",
        "También sería importante conocer que en versiones  anteriores de python los caracteres solo soportavan ASCII, en la versión actual soporta Unicode."
      ],
      "metadata": {
        "id": "xYE5f3NxGVa4"
      }
    },
    {
      "cell_type": "markdown",
      "source": [
        "**4.   El tipo None**\n",
        "Este solo soporta el valor \"None\", hay que tener varias consideraciones con este tipo:\n",
        "\n",
        "*   \"None\" **NO** es un valor por defecto\n",
        "*   \"None\" != False\n",
        "*   \"None\" **NO** es una cadena vacía\n",
        "*   \"None\" != 0\n",
        "\n",
        "\n"
      ],
      "metadata": {
        "id": "eGSlboEkHcOv"
      }
    },
    {
      "cell_type": "code",
      "source": [
        "val = None\n",
        "print(val) # Imprime \"None\" y devuelve None\n",
        "print (type(val))"
      ],
      "metadata": {
        "colab": {
          "base_uri": "https://localhost:8080/"
        },
        "id": "XeVP5d5JSZi5",
        "outputId": "a4ddf4bc-ecbb-4b3d-ac4b-629630a8da3f"
      },
      "execution_count": null,
      "outputs": [
        {
          "output_type": "stream",
          "name": "stdout",
          "text": [
            "None\n",
            "<class 'NoneType'>\n"
          ]
        }
      ]
    },
    {
      "cell_type": "markdown",
      "source": [
        "# Trabajando con Cadenas\n",
        "\n",
        "***Slicing*** **de una cadena**\n",
        "\n",
        "Sacar una porción de la cadena es sacar un **conjunto de caracteres** o sub cadena a partir de un **índice** de inicio **(inclusivo)** y un índice de fin **(exclusivo).**"
      ],
      "metadata": {
        "id": "ZcntbAOrSm8-"
      }
    },
    {
      "cell_type": "code",
      "source": [
        "print(my_str[2:8]) # Desde el caracter con indice 2 al  7\n",
        "print(my_str[1:10:2]) # Desde el caracter con indice 1 al 9 con salto de 2\n",
        "print(my_str[3:]) # Desde el indice 3 hasta el final\n",
        "print(my_str[:9]) # Desde el indice 0 hasta el 9\n",
        "print(my_str[::2]) # Toda la cadena con saltos de 2\n",
        "print(my_str[:-1]) # Podemos usar indices negativos"
      ],
      "metadata": {
        "colab": {
          "base_uri": "https://localhost:8080/"
        },
        "id": "Rrv2Y_13XEIo",
        "outputId": "d3cec127-ed87-4b3f-e80f-bfdad5dd92bc"
      },
      "execution_count": null,
      "outputs": [
        {
          "output_type": "stream",
          "name": "stdout",
          "text": [
            "mple t\n",
            "apetx\n",
            "ple text\n",
            "sample te\n",
            "sml et\n",
            "sample tex\n"
          ]
        }
      ]
    },
    {
      "cell_type": "markdown",
      "source": [
        "**Formateo de Cadenas**\n",
        "\n",
        "Sustuir valores dentro de una cadena"
      ],
      "metadata": {
        "id": "BFG55t5AX9KM"
      }
    },
    {
      "cell_type": "code",
      "source": [
        "# Distintos tipos de inserción de cadenas\n",
        "string1 = \"I like %s\" % \"Python\"\n",
        "print(string1)\n",
        "\n",
        "temp = \"Educative\"\n",
        "string2 = \"I like %s\" % temp\n",
        "print(string2)\n",
        "\n",
        "string3 = \"I like %s and %s\" % (\"Python\", temp)\n",
        "print(string3)"
      ],
      "metadata": {
        "id": "6L_JWbVGahSD",
        "colab": {
          "base_uri": "https://localhost:8080/"
        },
        "outputId": "6be8c24c-901e-4ba0-df67-a57119899d52"
      },
      "execution_count": null,
      "outputs": [
        {
          "output_type": "stream",
          "name": "stdout",
          "text": [
            "I like Python\n",
            "I like Educative\n",
            "I like Python and Educative\n"
          ]
        }
      ]
    },
    {
      "cell_type": "markdown",
      "source": [
        "No solo podemos sustituir por cadenas, también podemos sustituir por **otros tipos de datos.**\n",
        "\n"
      ],
      "metadata": {
        "id": "uWn3voAGaj5_"
      }
    },
    {
      "cell_type": "code",
      "source": [
        "# Inserción de enteros\n",
        "string1 = \"%i + %i = %i\" % (1,2,3)\n",
        "print(string1)\n",
        "\n",
        "# Inserción de Floats\n",
        "string1 = \"%f\" % (1.11) #  Todos los decimales\n",
        "print(string1)\n",
        "\n",
        "string2 = \"%.2f\" % (1.11) #  Los 2 primeros decimales\n",
        "print(string2)\n",
        "\n",
        "string3 = \"%.2f\" % (1.117) # Aquí vemos como python redondea automáticamente\n",
        "print(string3)"
      ],
      "metadata": {
        "colab": {
          "base_uri": "https://localhost:8080/"
        },
        "id": "KDVbYg7Na3F9",
        "outputId": "e33ebbaf-5b3c-4f07-b022-0a07687e8dc4"
      },
      "execution_count": null,
      "outputs": [
        {
          "output_type": "stream",
          "name": "stdout",
          "text": [
            "1 + 2 = 3\n",
            "1.110000\n",
            "1.11\n",
            "1.12\n"
          ]
        }
      ]
    },
    {
      "cell_type": "markdown",
      "source": [
        "# Operadores\n",
        "\n",
        "Se usan para mejorar las operaciones lógicas y aritméticas. Existen 4 tipos de operadores en python:\n",
        "  - Operadores Aritméticos:\n",
        "    - Paréntesis `()`\n",
        "\n",
        "      se usa para encapsular una operación\n",
        "    - Exponente `**`\n",
        "    - Producto `*`\n",
        "    - División `/`\n",
        "    - División a la baja `//`\n",
        "      \n",
        "      Se usa para dividir truncando los decimales\n",
        "    - Suma `+`\n",
        "    - Resta `-`\n",
        "    - Módulo `%`\n",
        "      \n",
        "      Es el resto de la división\n",
        "  \n",
        "  - Operadores de Comparación:\n",
        "\n",
        "  El resultado de estas comparaciones siempre va a ser un booleano\n",
        "    - Mayor que `>`\n",
        "    - Menor que `<`\n",
        "    - Igual o mayor que `>=`\n",
        "    - Igual o menor que `<=`\n",
        "    - Igual a (valores) `==`\n",
        "    - Desigual a (valores) `!=`\n",
        "    - Igual a (identidad) `is`\n",
        "    - desigual a (identidad) `is not`\n",
        "  \n",
        "  - Operadores Lógicos:\n",
        "\n",
        "  El resultado de estos operadores también es un booleano\n",
        "    - Operador \"Y\" `and`\n",
        "    - Operador \"O\" `or`\n",
        "    - Operador de negación `not`\n",
        "   \n",
        "  - Operadores a nivel de bit:\n",
        "\n",
        "  Nos permiten realizar operaciones relacionadas con los bits\n",
        "    - Operador \"Y\" `&`\n",
        "    - Operador \"O\" `|`\n",
        "    - Operador \"O exclusivo\" (XOR) `^`\n",
        "    - Operador de negación `~`\n",
        "    - Intercambio de bits a la izquierda `<<`\n",
        "    - Intercambio de bits a la derecha `>>`\n",
        "\n",
        "  - Operadores de Asignación: \n",
        "\n",
        "  Se usa para asignar valores\n",
        "    - Asigar `=`\n",
        "    - Sumar y asignar `+=`\n",
        "    - Restar y asignar `-=`\n",
        "    - Multiplicar y asignar `*=`\n",
        "    - Dividir y asignar `/=`\n",
        "    - Dividir a la baja y asignar `//=`\n",
        "    - Elevar a una potencia y asignar `**=`\n",
        "    - Sacar el módulo y asignar `%=`\n",
        "    - \"OR\" y asignar `|=`\n",
        "    - \"AND\" y asignar `&=`\n",
        "    - \"XOR\" y asignar `^=`\n",
        "    - Intercambio de bits por la derecha y asignar `>>=`  \n",
        "    - Intercambio de bits por la izquierda y asignar `<<=`"
      ],
      "metadata": {
        "id": "EuypOjU1b91i"
      }
    },
    {
      "cell_type": "markdown",
      "source": [
        "# Operaciones con Cadenas\n",
        "\n",
        "- Comparar cadenas\n",
        "\n",
        "  Cada **carácter** de una cadena **tiene su propio valor en Unicode**, lo que nos permite compararlas entre ellas.\n",
        "\n",
        "  Aquí unos pocos ejemplos:"
      ],
      "metadata": {
        "id": "SpBhmRcd5sVq"
      }
    },
    {
      "cell_type": "code",
      "source": [
        "print('a' < 'b')  # 'a' posee un valor en Unicode menor\n",
        "\n",
        "house = \"Gryffindor\"\n",
        "house_copy = \"Gryffindor\"\n",
        "house_lower_case = \"gryffindor\"\n",
        "\n",
        "print(house == house_copy) # Devuelve True porque tienen el mismo valor\n",
        "\n",
        "# OJO! aqui devuelve falso porque mayúsculas y minúscusculas no tienen el mismo\n",
        "# valor unicode. La comparación de cadenas es sensible a las mayúsculas.\n",
        "print(house == house_lower_case) \n",
        "\n",
        "new_house = \"Slytherin\"\n",
        "\n",
        "print(house == new_house) # Devuelva falso porque no tienen el mismo valor\n",
        "\n",
        "# Devuelve falso porque va delante alfabéticamente (recordamos que realmente lo\n",
        "# que hace es comparar los caracteres unicode).\n",
        "print(new_house <= house)\n",
        "\n",
        "print(new_house >= house) # Devuelve verdadero\n"
      ],
      "metadata": {
        "colab": {
          "base_uri": "https://localhost:8080/"
        },
        "id": "qBheYOy96moJ",
        "outputId": "18ecd576-afc4-4b74-afe2-daa8d99ee425"
      },
      "execution_count": null,
      "outputs": [
        {
          "output_type": "stream",
          "name": "stdout",
          "text": [
            "True\n",
            "True\n",
            "False\n",
            "False\n",
            "False\n",
            "True\n"
          ]
        }
      ]
    },
    {
      "cell_type": "markdown",
      "source": [
        "- Concatenar Cadenas\n",
        "\n",
        "  - `+` -> Permite unir dos cadenas\n",
        "  - `*` -> Permite repetir una cadena"
      ],
      "metadata": {
        "id": "0qjgdRhi8y5h"
      }
    },
    {
      "cell_type": "code",
      "source": [
        "first_half = \"Bat\"\n",
        "second_half = \"man\"\n",
        "\n",
        "full_name = first_half + second_half\n",
        "print(full_name) # Devuelve 'Batman'\n",
        "\n",
        "print('ha' * 3) # Devuelve 'hahaha'"
      ],
      "metadata": {
        "colab": {
          "base_uri": "https://localhost:8080/"
        },
        "id": "TuCNU-Fc9IVh",
        "outputId": "0a82acbe-1138-4329-dad8-7aa81c442ec1"
      },
      "execution_count": null,
      "outputs": [
        {
          "output_type": "stream",
          "name": "stdout",
          "text": [
            "Batman\n",
            "hahaha\n"
          ]
        }
      ]
    },
    {
      "cell_type": "markdown",
      "source": [
        "- Búsqueda en una cadena \n",
        "\n",
        "  La búsqueda nos permite si una **cadena** o un carácter está **contenida** en otra cadena:\n"
      ],
      "metadata": {
        "id": "qXo-zX0p9dfe"
      }
    },
    {
      "cell_type": "code",
      "source": [
        "random_string = \"This is a random string\"\n",
        "\n",
        "# Devuelve falso porque 'of' no está contenido dentro de la cadena comparada\n",
        "print('of' in random_string)\n",
        "print('random' in random_string)  # Devuelve Verdadero"
      ],
      "metadata": {
        "colab": {
          "base_uri": "https://localhost:8080/"
        },
        "id": "fG548qZO_BYE",
        "outputId": "b6860305-51dc-4fae-b452-eae52f4c493a"
      },
      "execution_count": null,
      "outputs": [
        {
          "output_type": "stream",
          "name": "stdout",
          "text": [
            "False\n",
            "True\n"
          ]
        }
      ]
    },
    {
      "cell_type": "markdown",
      "source": [
        "# Listas\n",
        "\n",
        "Muchas veces tendremos al necesidad de **almacenar varios datos juntos**. Existen muchas formas de almacenar estos datos, pero la más popular es la ya mencionada anteriormente **lista**. En ella podemos guardar el tipo de dato que queramos, o incluso **varios tipos de datos** dentro de la misma lista, aunque **no es lo más recomendable.**"
      ],
      "metadata": {
        "id": "R2g0BQV7_cKC"
      }
    },
    {
      "cell_type": "code",
      "source": [
        "# Creación de una lista\n",
        "my_list = [1, 2.5, \"A string\", True] \n",
        "print(my_list[2]) # OJO! la primera posición de la lista es my_list[0]\n",
        "print(len(my_list)) # Imprime la cantidad de elementos que posee la lista"
      ],
      "metadata": {
        "id": "76OMK8NfA391"
      },
      "execution_count": null,
      "outputs": []
    },
    {
      "cell_type": "markdown",
      "source": [
        "# Declaraciones condicionales\n",
        "\n",
        "Son básicamente una **expresión que devuelve un booleano** y, en función del valor devuelto **ejecuta un extracto de código o no**.\n",
        "\n",
        "En Python hay varias maneras de manejarlo: "
      ],
      "metadata": {
        "id": "_oWO_6wpFMA6"
      }
    },
    {
      "cell_type": "code",
      "source": [
        "a = 1\n",
        "b = 2\n",
        "\n",
        "if a > b is True : # if a > b: es lo mismo \n",
        "    # código\n",
        "    pass # \"pass\" es necesario solo si no metes nada en el bloque de código\n",
        "else: # Si es falso, se ejecita este bloque de código. Opcional\n",
        "    # código\n",
        "    pass\n",
        "\n",
        "# Otras Declaraciones condicionales\n",
        "\n",
        "if a > 5:\n",
        "  # código\n",
        "  pass\n",
        "# (else, if). Si la anterior no es verdadera, hacemos otra condicional\n",
        "elif a < 0: # Podemos concatenar todos los elif que queramos \n",
        "  # código\n",
        "  pass\n",
        "else:\n",
        "  # código\n",
        "  pass"
      ],
      "metadata": {
        "id": "fzsExpH-Gli0"
      },
      "execution_count": null,
      "outputs": []
    },
    {
      "cell_type": "markdown",
      "source": [
        "También puedes indicar en estas condicionales que se tienen que cumplir **varias condiciones** (operador lógico \"and\") o una **única condición**(operador lógico \"or\"):"
      ],
      "metadata": {
        "id": "i3v02kvDVLWZ"
      }
    },
    {
      "cell_type": "code",
      "source": [
        "# Ejemplo con el operador \"and\"\n",
        "num = 5\n",
        "if (num <= 5 and num > 0):\n",
        "  print(\"se cumple la condición\")\n",
        "\n",
        "#Aquí vemos que tinen que cumplirse ambas condiciones\n",
        "num = 10\n",
        "if (num < 30 and num < 9 ):\n",
        "  print(\"se cumple la condición\")\n",
        "else:\n",
        "  print(\"no se cumple la condición\")"
      ],
      "metadata": {
        "colab": {
          "base_uri": "https://localhost:8080/"
        },
        "id": "qpYdYKnFXGPU",
        "outputId": "c32e0cca-af66-4d67-9fc1-3a0fe6d222ce"
      },
      "execution_count": null,
      "outputs": [
        {
          "output_type": "stream",
          "name": "stdout",
          "text": [
            "se cumple la condición\n",
            "no se cumple la condición\n"
          ]
        }
      ]
    },
    {
      "cell_type": "code",
      "source": [
        "# Ejemplo con el operador \"or\"\n",
        "\n",
        "num = 1\n",
        "if(num == 1 or num == 0):\n",
        "  print('se cumple la condición')\n",
        "\n",
        "# Solo se tiene que cumplir una, pero si no se cumple ninguna es falso\n",
        "\n",
        "if(num == 2 or num == 3):\n",
        "  print(\"se cumple la condición\")\n",
        "else:\n",
        "  print(\"no se cumple la condición\")"
      ],
      "metadata": {
        "colab": {
          "base_uri": "https://localhost:8080/"
        },
        "id": "Q5PC6Iz7YLCe",
        "outputId": "bf6ac229-1249-480f-c9a2-ba5d102eeba0"
      },
      "execution_count": null,
      "outputs": [
        {
          "output_type": "stream",
          "name": "stdout",
          "text": [
            "se cumple la condición\n",
            "no se cumple la condición\n"
          ]
        }
      ]
    },
    {
      "cell_type": "markdown",
      "source": [
        "También podemos **encadenar varios \"if\"**, aunque no es una buena práctica de programación."
      ],
      "metadata": {
        "id": "bzYpPsmwYq57"
      }
    },
    {
      "cell_type": "code",
      "source": [
        "num = 63\n",
        "\n",
        "if num >= 0 and num <= 100:\n",
        "  if num >= 50 and num <= 75:\n",
        "    if num >= 60 and num <= 70:\n",
        "      print(\"El número está entre 60 y 70\")\n"
      ],
      "metadata": {
        "colab": {
          "base_uri": "https://localhost:8080/"
        },
        "id": "pgQZd3-4ZBav",
        "outputId": "6005599e-dd72-4a9d-86f6-89625f96dd67"
      },
      "execution_count": null,
      "outputs": [
        {
          "output_type": "stream",
          "name": "stdout",
          "text": [
            "El número está entre 60 y 70\n"
          ]
        }
      ]
    },
    {
      "cell_type": "markdown",
      "source": [
        "También existe la posibilidad de **declarar una variable en función de una condición** usando \"if\", esto se conoce en otros lenguajes de programación como **operador ternario**, podemos declararlo de la siguiente manera:"
      ],
      "metadata": {
        "id": "2xAvZAL-ZItS"
      }
    },
    {
      "cell_type": "code",
      "source": [
        "num = 60\n",
        "#         Valor si la condición se cumple         |   Condición     | Valor si la condición no se cumple\n",
        "output = \"The number is less than or equal to 50\" if num <= 50 else \"The number is greater than 50\"\n",
        "print(output) # devuelve la segunda condición\n",
        "\n",
        "# TIP: usando \"\\\" podemos continuar una línea de código en la línea de abajo \n",
        "new_output = \">50\" if num >= 50 \\\n",
        "  else \"<50\"\n",
        "print(new_output) # Devuelve la primera condición"
      ],
      "metadata": {
        "colab": {
          "base_uri": "https://localhost:8080/"
        },
        "id": "-PW4d8w1Zkbk",
        "outputId": "37221b4c-9939-4ebe-fc30-49e3aeebf010"
      },
      "execution_count": null,
      "outputs": [
        {
          "output_type": "stream",
          "name": "stdout",
          "text": [
            "The number is greater than 50\n",
            ">50\n"
          ]
        }
      ]
    },
    {
      "cell_type": "markdown",
      "source": [
        "# Funciones\n",
        "\n",
        "Una función es un **set de operaciones** que podemos **reutilizar** simplemente llamando a dicha función. Esto también deriva en un **código mas simple** y limpio. Existen algunas funciones que vienen **creadas por defecto** en el lenguaje de programación, estos son algunos ejemplos:\n",
        "\n",
        "- `print(something)`: Ya la hemos usado, sirve para imprimir por pantalla lo que sea que le enviemos a la función.\n",
        "- `len(argument)`: Nos devuelve la longitud de una cadena, una lista u otras estructuras de datos. \n",
        "- `min(arg1, arg2 ... , arg_n)`: Nos dice el menor valor de los argumentos pasados.\n",
        "- `max(arg1, arg2 ... , arg_n)`: Nos dice el valor más alto de los argumentos pasados.\n",
        "- `type(argument)`: nos dice el tipo (int, bool...) del argumento pasado\n"
      ],
      "metadata": {
        "id": "nfsiluiLaoe7"
      }
    },
    {
      "cell_type": "markdown",
      "source": [
        "También es posible crear nuestras propias funciones para poder reutilizar un bloque de código que hayamos creado:\n"
      ],
      "metadata": {
        "id": "h5xX-dbEgHGh"
      }
    },
    {
      "cell_type": "code",
      "source": [
        "# En este ejemplo vamos a crear una función que sume dos numeros\n",
        "# Con la palabra reservada def indicamos que vamos a crear una función\n",
        "# nombre funcion | Argumentos de la función\n",
        "def my_function(arg1, arg2):\n",
        "  return arg1 + arg2 # Indicamos que la función devuelve el valor indicado\n",
        "\n",
        "print(my_function(5, 2))\n",
        "\n",
        "# Puedes no devolver nada en un función\n",
        "def print_something(something):\n",
        "  print(something)\n",
        "\n",
        "# Aquí vemos como se reutiliza el código\n",
        "print_something(\"sample text\")\n",
        "print_something(\"other sample text\")\n",
        "\n",
        "# También podemos pasar valores por defecto al parámetro de una función\n",
        "# Los parámetros por defecto tienen que ir siempre detrás de los que no lo son\n",
        "def favourite_food(name, food = \"Lasagna\"):\n",
        "  print(\"My name is \" + name + \", My favourite food is \" + food)\n",
        "\n",
        "favourite_food('Sergio', 'Ice Cream')\n",
        "# Si no le pasamos el segundo parámetro, usará el indicado en los argumentos\n",
        "favourite_food('Manuel')"
      ],
      "metadata": {
        "colab": {
          "base_uri": "https://localhost:8080/"
        },
        "id": "qsQ0GvZQismy",
        "outputId": "9a990dce-2fff-4d3f-9688-f262db0907c3"
      },
      "execution_count": null,
      "outputs": [
        {
          "output_type": "stream",
          "name": "stdout",
          "text": [
            "7\n",
            "sample text\n",
            "other sample text\n",
            "My name is Sergio, My favourite food is Ice Cream\n",
            "My name is Manuel, My favourite food is Lasagna\n"
          ]
        }
      ]
    },
    {
      "cell_type": "markdown",
      "source": [
        "Hay que tener en cuenta que si **modificamos** una variable declarada fuera de una función dentro de esta, su valor **solo se modificara dentro de la función.** Esto **no ocurre así con las listas**, si modificamos el contenido de una lista dentro de una función, el contenido no se mantendrá como originalmente una vez ejecutemos la función."
      ],
      "metadata": {
        "id": "lhsqhANOj7k5"
      }
    },
    {
      "cell_type": "code",
      "source": [
        "# Intentando modificar el valor con un entero\n",
        "num = 10\n",
        "def multiply(n):\n",
        "  n *= 10\n",
        "  num = n\n",
        "  print(num)\n",
        "\n",
        "multiply(num)\n",
        "print(num) # Comprobamos que el valor no ha sido afectado fuera de la función\n",
        "\n",
        "#Intentando modificar una lista\n",
        "num_list = [0, 1, 2 ,3]\n",
        "print(num_list)\n",
        "def reassign_list(my_list):\n",
        "  my_list[0] = 100\n",
        "  my_list[1] = 100\n",
        "  my_list[2] = 100\n",
        "  my_list[3] = 100\n",
        "\n",
        "reassign_list(num_list)\n",
        "print(num_list) # Comprobamos que la lista ha sido modificada"
      ],
      "metadata": {
        "colab": {
          "base_uri": "https://localhost:8080/"
        },
        "id": "mWZH_ltZnqK0",
        "outputId": "5dcc3ea0-70ec-45f0-c8df-bfb1da308f17"
      },
      "execution_count": null,
      "outputs": [
        {
          "output_type": "stream",
          "name": "stdout",
          "text": [
            "100\n",
            "10\n",
            "[0, 1, 2, 3]\n",
            "[100, 100, 100, 100]\n"
          ]
        }
      ]
    },
    {
      "cell_type": "markdown",
      "source": [
        "# Funciones con Cadenas\n",
        "\n",
        "Hay un buen número de funciones con Cadenas que vienen de base con el lenguaje de programación. Aquí explicamos algunas de las más utilizadas:\n",
        "\n",
        "- `find()` : Devuelve el primer índice en el que se encuentra una subcadena dada. Si no se encuentra la subcadena, devuelve **\"-1\"** "
      ],
      "metadata": {
        "id": "BVeXonretUTj"
      }
    },
    {
      "cell_type": "code",
      "source": [
        "random_string = \"Esto es una cadena\"\n",
        "# random_string(substring, start, end)\n",
        "# substring: subcadena que queeremos buscar en random_string\n",
        "# start: inicio de donde queremos buscar la subcadena dentro de random_string\n",
        "# end: último índice en el que queremos buscar la subcadena.\n",
        "\n",
        "print(random_string.find(\"is\"))  # First instance of 'is' occurs at index 2\n",
        "print(random_string.find(\"is\", 9, 13))  # No instance of 'is' in this range"
      ],
      "metadata": {
        "id": "fEabfhd6ulg7"
      },
      "execution_count": null,
      "outputs": []
    },
    {
      "cell_type": "markdown",
      "source": [
        "- `replace()` : Se usa para reemplazar una parte de una cadena por otra cadena. La cadena original no se verá afectada, se generará una nueva cadena."
      ],
      "metadata": {
        "id": "YRkpycPCxT3R"
      }
    },
    {
      "cell_type": "code",
      "source": [
        "a_string = \"Welcome to Educative!\"\n",
        "\n",
        "# El primer argumento es lo que reemplazar en la cadena\n",
        "# El segundo es la cadena por la que queremos reemplazar.\n",
        "new_string = a_string.replace(\"Welcome to\", \"Greetings from\")\n",
        "\n",
        "#Comprobamos que la cadena original no se ve afectada\n",
        "print(a_string)\n",
        "print(new_string) \n",
        "\n",
        "other_string = \"is is is is\"\n",
        "print(other_string.replace(\"is\", \"hi\")) # Remplaza todas las coincidencias"
      ],
      "metadata": {
        "colab": {
          "base_uri": "https://localhost:8080/"
        },
        "id": "pkD-Md9Vxy7z",
        "outputId": "b4be2d4f-82f0-4309-a6ff-4a8290dc1a03"
      },
      "execution_count": null,
      "outputs": [
        {
          "output_type": "stream",
          "name": "stdout",
          "text": [
            "Welcome to Educative!\n",
            "Greetings from Educative!\n",
            "hi hi hi hi\n"
          ]
        }
      ]
    },
    {
      "cell_type": "markdown",
      "source": [
        "- `upper()` : Pasa todos los caracteres de la cadena a mayúscula\n",
        "- `lower()` : Pasa todos los caracteres de la cadena a minúscula"
      ],
      "metadata": {
        "id": "gooO2Oo4y_VB"
      }
    },
    {
      "cell_type": "code",
      "source": [
        "my_str = \"Some Random String\"\n",
        "print(my_str.upper())\n",
        "print(my_str.lower())\n",
        "print(my_str) # Nuevamente, el valor orginal no se ve afectado"
      ],
      "metadata": {
        "colab": {
          "base_uri": "https://localhost:8080/"
        },
        "id": "xl3-4ml7zdvh",
        "outputId": "1c613bda-fc41-448f-f533-1988942de299"
      },
      "execution_count": null,
      "outputs": [
        {
          "output_type": "stream",
          "name": "stdout",
          "text": [
            "SOME RANDOM STRING\n",
            "some random string\n",
            "Some Random String\n"
          ]
        }
      ]
    },
    {
      "cell_type": "markdown",
      "source": [
        "- `join()` : Método por el que puedes unir múltiples cadenas con una cadena que las enlazará"
      ],
      "metadata": {
        "id": "1pOdq-Aez4OZ"
      }
    },
    {
      "cell_type": "code",
      "source": [
        "my_list = ['a', 'b', 'c']\n",
        "print(','.join(my_list))\n",
        "print(my_list) # La lista original no se ve afectada\n",
        "\n",
        "# Otros ejemplos\n",
        "print(''.join(my_list)) # Unimos por una cadena vacía\n",
        "print(' '.join(my_list)) # Unimos con un espacio"
      ],
      "metadata": {
        "colab": {
          "base_uri": "https://localhost:8080/"
        },
        "id": "398TWkC501y9",
        "outputId": "02d99582-6032-4566-adce-d859e8d39162"
      },
      "execution_count": null,
      "outputs": [
        {
          "output_type": "stream",
          "name": "stdout",
          "text": [
            "a,b,c\n",
            "['a', 'b', 'c']\n",
            "abc\n",
            "a b c\n"
          ]
        }
      ]
    },
    {
      "cell_type": "markdown",
      "source": [
        "- `format()` método por el que podemos sustituir un \"placeholder\" por una cadena dada. Podemos sustituir tantos como queramos"
      ],
      "metadata": {
        "id": "LXlNH5vU1ftJ"
      }
    },
    {
      "cell_type": "code",
      "source": [
        "# cadena.format(placeholder1 = \"valor\", placeholder1 = \"otro valor\" ...)\n",
        "\n",
        "string1 = \"Learn Python {version} at {cname}\".format(version = 3, cname = \"Educative\")\n",
        "\n",
        "# Le indicamos la posición del placeholder por el que queremos sustituir\n",
        "string2 = \"Learn Python {0} at {1}\".format(3, \"Educative\")\n",
        "\n",
        "# Si no le indicamos nada, los sustituirá conforme le hemos indicado\n",
        "string3 = \"Learn Python {} at {}\".format(3, \"Educative\")\n",
        "\n",
        "print(string1)\n",
        "print(string2)\n",
        "print(string3)"
      ],
      "metadata": {
        "colab": {
          "base_uri": "https://localhost:8080/"
        },
        "id": "Qn8z-zwY14iN",
        "outputId": "02ac3bc7-0740-40dd-e7f0-a561438f70a8"
      },
      "execution_count": null,
      "outputs": [
        {
          "output_type": "stream",
          "name": "stdout",
          "text": [
            "Learn Python 3 at Educative\n",
            "Learn Python 3 at Educative\n",
            "Learn Python 3 at Educative\n"
          ]
        }
      ]
    },
    {
      "cell_type": "markdown",
      "source": [
        "# Conversión de tipos\n",
        "\n",
        "Muchas veces necesitaremos **modificar el tipo de una variable**, por ejemplo pasar un entero a coma flotante, o una cadena que tiene un numero a entero, para ello contamos con una serie de métodos que convierten una variable de un tipo a otra.\n",
        "\n",
        "Hay que tener en cuenta que **no todos los tipos son convertibles entre si**, por ejemplo las cadenas solo se pueden convertir a enteros o a coma flotante si todos sus caracteres son numéricos. Los métodos que nos permiten transformar estos tipos son:\n",
        "- `int()` : Conversión a entero.\n",
        "- `ord()` : Conversión a valor en Unicode.\n",
        "- `float()` : Conversión a coma flotante.\n",
        "- `str()` : Conversión a cadena.\n",
        "- `bool()` : Conversión a booleano.\n",
        "\n",
        "# Entrada de parte del Usuario\n",
        "\n",
        "Hasta hora hemos estado **asignando valor a las variables directamente en el código**, pero es posible que el usuario pueda **introducir los datos directamente desde la consola.** Para ello podemos usar una función especial llamada `input()`.\n",
        "\n",
        "Aquí mostramos un ejemplo de su uso:"
      ],
      "metadata": {
        "id": "F4wMmflrKxhJ"
      }
    },
    {
      "cell_type": "code",
      "source": [
        "my_input = input(\"Write something: \")\n",
        "print(\"You writted: \" + my_input)"
      ],
      "metadata": {
        "colab": {
          "base_uri": "https://localhost:8080/"
        },
        "id": "TYJFnnbsM0QV",
        "outputId": "4a882c47-f59f-40d6-ab62-f69455ad51f6"
      },
      "execution_count": null,
      "outputs": [
        {
          "output_type": "stream",
          "name": "stdout",
          "text": [
            "Write something: Sample text\n",
            "You writted: Sample text\n"
          ]
        }
      ]
    },
    {
      "cell_type": "markdown",
      "source": [
        "# Funciones Lambda (λ)\n",
        "\n",
        "Una función lambda es aquella función **anónima** que **devuelve un valor.** Estas funciones son muy útiles cuando una función requiere de una función como argumento.\n",
        "\n",
        "He aquí varios ejemplos de uso de una función lambda:"
      ],
      "metadata": {
        "id": "s3HjcC01NNlG"
      }
    },
    {
      "cell_type": "code",
      "source": [
        "# my_lambda = lambda parametros : expresión (valor que queremos devolver)\n",
        "\n",
        "my_lambda = lambda num : num % 2\n",
        "print(my_lambda(15))\n",
        "\n",
        "# Lambda con varios parametros\n",
        "other_lambda = lambda a, b, c: a + ' ' + b + ' ' + c\n",
        "print(other_lambda('Hello', 'my', 'friend'))"
      ],
      "metadata": {
        "colab": {
          "base_uri": "https://localhost:8080/"
        },
        "id": "01k5OPwtOCjU",
        "outputId": "4fde25cc-12ca-4aff-d391-853132b6d72d"
      },
      "execution_count": null,
      "outputs": [
        {
          "output_type": "stream",
          "name": "stdout",
          "text": [
            "1\n",
            "Hello my friend\n"
          ]
        }
      ]
    },
    {
      "cell_type": "markdown",
      "source": [
        "# Funciones como argumentos\n",
        "\n",
        "Una función puede ser pasada como argumento a otra función. aquí algunos ejemplos:"
      ],
      "metadata": {
        "id": "ILDwlLGYg1nP"
      }
    },
    {
      "cell_type": "code",
      "source": [
        "def multiply(n1, n2):\n",
        "    return n1 * n2\n",
        "\n",
        "def operate_number(func, n1, n2):\n",
        "  return func(n1, n2) #Usamos la función dada\n",
        "\n",
        "print(operate_number(multiply, 5, 2))\n",
        "\n",
        "# Usando lambdas (no es necesario encapsular la lambda en los paréntesis)\n",
        "print(operate_number((lambda n1, n2: n1 + n2), 5, 2))"
      ],
      "metadata": {
        "colab": {
          "base_uri": "https://localhost:8080/"
        },
        "id": "XMA_yvqAk1dX",
        "outputId": "a66410ec-a42a-4ddd-bff1-a732c7a88ff7"
      },
      "execution_count": null,
      "outputs": [
        {
          "output_type": "stream",
          "name": "stdout",
          "text": [
            "10\n",
            "7\n"
          ]
        }
      ]
    },
    {
      "cell_type": "markdown",
      "source": [
        "Otros ejemplos de uso son las funciones propias de python llamadas `map()` y `filter()`:\n",
        "- `map()` : Itera cada uno de los elementos de una lista dada y realiza la función que pasamos por argumentos.\n",
        "- `filter()` : Devuelve un objeto map con los elementos de la lista que cumplan la condición que le indicamos."
      ],
      "metadata": {
        "id": "pn8EqP1bl_zb"
      }
    },
    {
      "cell_type": "code",
      "source": [
        "num_list = [0, 1, 2, 3, 4, 5]\n",
        "\n",
        "#                 funcion        | Lista\n",
        "double_list = map(lambda n: n * 2, num_list)\n",
        "\n",
        "print(\"Double List:\", list(double_list)) # Es necesario convertir el objeto map a una lista\n",
        "\n",
        "# Nuevamente es necesario convertir a una lista\n",
        "even_numbers = list( filter(lambda n: n%2 == 0, num_list) )\n",
        "\n",
        "print(\"Even numbers:\", even_numbers)"
      ],
      "metadata": {
        "colab": {
          "base_uri": "https://localhost:8080/"
        },
        "id": "RFXsLWMGt-4w",
        "outputId": "9b52ceb4-c14f-4bd2-9691-8a359fe5a092"
      },
      "execution_count": null,
      "outputs": [
        {
          "output_type": "stream",
          "name": "stdout",
          "text": [
            "Double List: [0, 2, 4, 6, 8, 10]\n",
            "Even numbers: [0, 2, 4]\n"
          ]
        }
      ]
    },
    {
      "cell_type": "markdown",
      "source": [
        "# Recursividad\n",
        "La recursión o recursividad es la forma en la cual se especifica **un proceso basado en su propia definición**, en este caso, **una función se llama a sí misma** durante su ejecución. Esta recursión para cuando se llega al llamado **caso base**. \n",
        "\n",
        "Esto tiene ciertas ventajas como la **reducción del tiempo de ejecución** de algunos algoritmos, haciendo que el código sea más eficiente, También es muy **util** en problemas de **grafos** o **árboles**."
      ],
      "metadata": {
        "id": "47gE4u4-hv9p"
      }
    },
    {
      "cell_type": "code",
      "source": [
        "# Ejemplo de uso de recursividad\n",
        "\n",
        "def factorial(num):\n",
        "  # Caso base (recordamos que 0! = 1)\n",
        "  if num == 0:\n",
        "    return 1\n",
        "\n",
        "  # Esto también es un caso base aunque sirve para evitar fallos en la ejecución\n",
        "  # Por definición, solo se puede realizar el factorial de un entero positivo.\n",
        "  if num < 0:\n",
        "    return -1\n",
        "  \n",
        "  #Llamamos a la función dentro de la propia función\n",
        "  return num * factorial(num-1)\n",
        "\n",
        "print(factorial(5))"
      ],
      "metadata": {
        "colab": {
          "base_uri": "https://localhost:8080/"
        },
        "id": "E-4N69EfjPAF",
        "outputId": "6e6dd615-b10c-48f7-ed73-b69d07e94995"
      },
      "execution_count": null,
      "outputs": [
        {
          "output_type": "stream",
          "name": "stdout",
          "text": [
            "120\n"
          ]
        }
      ]
    },
    {
      "cell_type": "markdown",
      "source": [
        "# Bucles\n",
        "\n",
        "Es una **estructura de control** que sirve para **repetir un set de instrucciones** un número de veces. Esto sirve para no escribir el mismo set de instrucciones varias veces. Son ampliamente usados para **recorrer estructuras de datos** como listas o tuplas. \n",
        "\n",
        "Existen dos tipos de bucles que podemos usar en pyhton:\n",
        "\n",
        "- `for` : Usa un iterador que se va actualizando **para atravesar una secuencia** como por ejemplo un rango de números, los elementos de una lista..."
      ],
      "metadata": {
        "id": "t2ZGZmGWnC-H"
      }
    },
    {
      "cell_type": "code",
      "source": [
        "# Estructura de un bucle\n",
        "# for nombre_iterador in objeto_iterado\n",
        "\n",
        "# Bucles con rango\n",
        "\n",
        "# función en la cual indicamos un rango de numeros (inclusivo, exclusivo) y \n",
        "# Los saltos que da este\n",
        "# \n",
        "# range(start, end, step)\n",
        "\n",
        "for i in range(10): # Te saca todos del 1 a n incluido\n",
        "  print(i)"
      ],
      "metadata": {
        "colab": {
          "base_uri": "https://localhost:8080/"
        },
        "id": "bUNL-LIcp8NO",
        "outputId": "e29e145d-eac0-427a-ca49-7e3370664581"
      },
      "execution_count": null,
      "outputs": [
        {
          "output_type": "stream",
          "name": "stdout",
          "text": [
            "0\n",
            "1\n",
            "2\n",
            "3\n",
            "4\n",
            "5\n",
            "6\n",
            "7\n",
            "8\n",
            "9\n"
          ]
        }
      ]
    },
    {
      "cell_type": "code",
      "source": [
        "# Bucles con lista/string\n",
        "cities = ['Granada', 'Valencia', 'Madrid', 'Barcelona', 'Bilbao', 'Algarinejo']\n",
        "\n",
        "for i in cities:\n",
        "  print(i)"
      ],
      "metadata": {
        "colab": {
          "base_uri": "https://localhost:8080/"
        },
        "id": "aqBC-xA1sz58",
        "outputId": "c8e4958f-a4f0-41f2-b56e-608e3ab14f5d"
      },
      "execution_count": null,
      "outputs": [
        {
          "output_type": "stream",
          "name": "stdout",
          "text": [
            "Granada\n",
            "Valencia\n",
            "Madrid\n",
            "Barcelona\n",
            "Bilbao\n",
            "Algarinejo\n"
          ]
        }
      ]
    },
    {
      "cell_type": "markdown",
      "source": [
        "- `while` : Este bucle se mantiene iterando **mientras se cumpla una condición indicada.**"
      ],
      "metadata": {
        "id": "L-s2va14tMpW"
      }
    },
    {
      "cell_type": "code",
      "source": [
        "# Estructura de un loop\n",
        "# while condicion:\n",
        "\n",
        "num = 0\n",
        "while num < 10:\n",
        "  print(num)\n",
        "  # CUIDADO!  si no actualizamos el valor iteraremos infinitamente\n",
        "  num += 1\n",
        "\n",
        "# Creacion básica de bucle infinito\n",
        "# while True:"
      ],
      "metadata": {
        "colab": {
          "base_uri": "https://localhost:8080/"
        },
        "id": "b4BXm1MXt52a",
        "outputId": "4c0e14f6-db33-4a11-ec1a-ddbb4afe0d38"
      },
      "execution_count": null,
      "outputs": [
        {
          "output_type": "stream",
          "name": "stdout",
          "text": [
            "0\n",
            "1\n",
            "2\n",
            "3\n",
            "4\n",
            "5\n",
            "6\n",
            "7\n",
            "8\n",
            "9\n"
          ]
        }
      ]
    },
    {
      "cell_type": "markdown",
      "source": [
        "# Palabras reservadas en bucles\n",
        "\n",
        "- `break` : **Termina el bucle** independientemente de si ha terminado todas sus iteraciones o no.\n",
        "\n",
        "- `continue` : Saltamos a **la siguiente iteración** del bucle sin ejecutar el código restante.\n",
        "\n",
        "- `pass` : Simplemente se usa para indicar que hay una **sección de código que está por implementar**, **funcionalmente no hace nada**"
      ],
      "metadata": {
        "id": "WCRl81oLtgnx"
      }
    },
    {
      "cell_type": "markdown",
      "source": [
        "# Estructuras de datos\n",
        "\n",
        "Una estructura de datos es una manera de **almacenar y organizar datos** de acuerdo a un cierto formato.\n",
        "\n",
        "Existen 4 tipos de estructuras de datos en Python.\n",
        "\n",
        "\n",
        "### Listas\n",
        "\n",
        "Nos permite **almacenar cualquier tipo de dato**. Sus elementos son **accesibles** a través de un **índice**. También es posible almacenar **listas dentro** de un elemento **de una lista**."
      ],
      "metadata": {
        "id": "CRdumQFo9dsw"
      }
    },
    {
      "cell_type": "code",
      "source": [
        "# Creación de una lista\n",
        "jon_snow = [\"Jon Snow\", \"Winterfell\", 30]\n",
        "print(jon_snow)\n",
        "\n",
        "# Acceder a un elemento de la lista\n",
        "print(jon_snow[0])\n",
        "\n",
        "# hallar la longitud de la lista\n",
        "print(len(jon_snow))\n",
        "\n",
        "#Modificar un elemento de la lista\n",
        "jon_snow[2] += 3\n",
        "print(jon_snow[2])\n",
        "\n",
        "# Convirtiendo un rango en una lista\n",
        "num_seq = list(range(0, 10))\n",
        "print(num_seq)\n",
        "\n",
        "# Obtener una sublista de la lista\n",
        "print(num_seq[2:8])"
      ],
      "metadata": {
        "colab": {
          "base_uri": "https://localhost:8080/"
        },
        "id": "nZWBTzWA-xCk",
        "outputId": "3197faf0-922c-4d76-bcab-c21fb1c97d0b"
      },
      "execution_count": null,
      "outputs": [
        {
          "output_type": "stream",
          "name": "stdout",
          "text": [
            "['Jon Snow', 'Winterfell', 30]\n",
            "Jon Snow\n",
            "3\n",
            "33\n",
            "[0, 1, 2, 3, 4, 5, 6, 7, 8, 9]\n",
            "[2, 3, 4, 5, 6, 7]\n"
          ]
        }
      ]
    },
    {
      "cell_type": "markdown",
      "source": [
        "Existe una manera más compleja de declarar y trabajar con listas, las llamadas **compresiones de lista**, que es cuando usamos un **bucle** `for` para **crear una nueva lista a partir de una existente**. Aquí unos ejemplos de como se trabaja con compresiones de listas:"
      ],
      "metadata": {
        "id": "MTGwBBnqbIwg"
      }
    },
    {
      "cell_type": "code",
      "source": [
        "nums = [10, 20, 30, 40, 50]\n",
        "nums_double = [n * 2 for n in nums]\n",
        "print(nums, nums_double)\n",
        "\n",
        "# Podemos añadir una condición\n",
        "nums_double = [n * 2 for n in nums if n % 4 == 0]\n",
        "print(nums_double)\n",
        "\n",
        "# También es posible usar varias listas para crear una lista\n",
        "list1 = [30, 50, 110, 40, 15, 75]\n",
        "list2 = [10, 60, 20, 50]\n",
        "\n",
        "# Combina todos los indices\n",
        "sum_list = [(n1, n2) for n1 in list1 for n2 in list2 if n1 + n2 > 100]\n",
        "\n",
        "print(sum_list)"
      ],
      "metadata": {
        "colab": {
          "base_uri": "https://localhost:8080/"
        },
        "id": "geWUpCz7bg8m",
        "outputId": "c19b16f5-9fdc-4d6e-fef2-a45a84bfc5a3"
      },
      "execution_count": null,
      "outputs": [
        {
          "output_type": "stream",
          "name": "stdout",
          "text": [
            "[10, 20, 30, 40, 50] [20, 40, 60, 80, 100]\n",
            "[40, 80]\n",
            "[(50, 60), (110, 10), (110, 60), (110, 20), (110, 50), (75, 60), (75, 50)]\n"
          ]
        }
      ]
    },
    {
      "cell_type": "markdown",
      "source": [
        "Hay algunos **métodos** ya implementados en Pyhton que nos facilitan la tarea de **trabajar con las listas**. Aquí se muestran algunos de los más usados:\n",
        "\n",
        "- `extend(my_list)` : Junta la **lista** que le pasamos **dentro de la lista** indicada\n"
      ],
      "metadata": {
        "id": "NGO5j2XW_G5_"
      }
    },
    {
      "cell_type": "code",
      "source": [
        "part_A = [1, 2, 3, 4, 5]\n",
        "part_B = [6, 7, 8, 9, 10]\n",
        "part_A.extend(part_B)\n",
        "print(part_A)"
      ],
      "metadata": {
        "colab": {
          "base_uri": "https://localhost:8080/"
        },
        "id": "gq0pmXQAPiOP",
        "outputId": "82a790b1-a588-4601-d73b-fb112d366736"
      },
      "execution_count": null,
      "outputs": [
        {
          "output_type": "stream",
          "name": "stdout",
          "text": [
            "[1, 2, 3, 4, 5, 6, 7, 8, 9, 10]\n"
          ]
        }
      ]
    },
    {
      "cell_type": "markdown",
      "source": [
        "- `append(element)` : **añade** un elemento **al final de la lista.**"
      ],
      "metadata": {
        "id": "sjRCAKIsPni1"
      }
    },
    {
      "cell_type": "code",
      "source": [
        "num_list = []  # Empty list\n",
        "num_list.append(1)\n",
        "num_list.append(2)\n",
        "num_list.append(3)\n",
        "print(num_list)"
      ],
      "metadata": {
        "colab": {
          "base_uri": "https://localhost:8080/"
        },
        "id": "W9idFb0wPv7-",
        "outputId": "9e85f901-9968-4b66-f1a5-7e4a508edb99"
      },
      "execution_count": null,
      "outputs": [
        {
          "output_type": "stream",
          "name": "stdout",
          "text": [
            "[1, 2, 3]\n"
          ]
        }
      ]
    },
    {
      "cell_type": "markdown",
      "source": [
        "- `insert(index, element)` : **añade** un elemento en la **posición** que le indiquemos **desplazando el resto de elementos** a la siguiente posición."
      ],
      "metadata": {
        "id": "Btf_SawIP1rb"
      }
    },
    {
      "cell_type": "code",
      "source": [
        "num_list = [1, 2, 3, 5, 6]\n",
        "num_list.insert(3, 4)\n",
        "print(num_list)"
      ],
      "metadata": {
        "colab": {
          "base_uri": "https://localhost:8080/"
        },
        "id": "CrjIJVS7QJzf",
        "outputId": "5e508abb-67fa-4e3a-fab8-5f766811c30b"
      },
      "execution_count": null,
      "outputs": [
        {
          "output_type": "stream",
          "name": "stdout",
          "text": [
            "[1, 2, 3, 4, 5, 6]\n"
          ]
        }
      ]
    },
    {
      "cell_type": "markdown",
      "source": [
        "- `pop()` :**Elimina** el elemento que esté en la **última posición** de la lista y **lo devuelve.**"
      ],
      "metadata": {
        "id": "3duN8dimQSd8"
      }
    },
    {
      "cell_type": "code",
      "source": [
        "houses = [\"Gryffindor\", \"Hufflepuff\", \"Ravenclaw\", \"Slytherin\"]\n",
        "print(houses.pop(), houses)"
      ],
      "metadata": {
        "colab": {
          "base_uri": "https://localhost:8080/"
        },
        "id": "l-5sZp1pQg59",
        "outputId": "5bfc02de-99ef-4b3d-8ac1-79b9a568d802"
      },
      "execution_count": null,
      "outputs": [
        {
          "output_type": "stream",
          "name": "stdout",
          "text": [
            "Slytherin ['Gryffindor', 'Hufflepuff', 'Ravenclaw']\n"
          ]
        }
      ]
    },
    {
      "cell_type": "markdown",
      "source": [
        "- `remove(element)` : **Elimina** la **primera ocurrencia** que coincida con el elemento que le pasamos. Si el elemento indicado no se encuentra en la lista obtendremos un \"*ValueError*\""
      ],
      "metadata": {
        "id": "y3xpC-x4QpkE"
      }
    },
    {
      "cell_type": "code",
      "source": [
        "houses = [\"Gryffindor\", \"Hufflepuff\", \"Ravenclaw\", \"Slytherin\", \"Ravenclaw\"]\n",
        "houses.remove(\"Ravenclaw\")\n",
        "print(houses)"
      ],
      "metadata": {
        "colab": {
          "base_uri": "https://localhost:8080/"
        },
        "id": "T1VsVrAJQ_Zd",
        "outputId": "275d9acb-f5c5-4a41-cc53-34ad7d224881"
      },
      "execution_count": null,
      "outputs": [
        {
          "output_type": "stream",
          "name": "stdout",
          "text": [
            "['Gryffindor', 'Hufflepuff', 'Slytherin', 'Ravenclaw']\n"
          ]
        }
      ]
    },
    {
      "cell_type": "markdown",
      "source": [
        "- `index(element)` : Nos devuelve el **índice de la primera ocurrencia** que encuentre con el elemento que le pasamos. Si el elemento no existe dentro de la lista devuelve un \"*ValueError*\"."
      ],
      "metadata": {
        "id": "EWn9lNnqSYtD"
      }
    },
    {
      "cell_type": "code",
      "source": [
        "houses = [\"Gryffindor\", \"Hufflepuff\", \"Ravenclaw\", \"Slytherin\", \"Ravenclaw\"]\n",
        "print(houses.index(\"Ravenclaw\"))"
      ],
      "metadata": {
        "colab": {
          "base_uri": "https://localhost:8080/"
        },
        "id": "t09ySjmeSq15",
        "outputId": "fa4be179-a207-499c-c1a1-66f202bc9ac4"
      },
      "execution_count": null,
      "outputs": [
        {
          "output_type": "stream",
          "name": "stdout",
          "text": [
            "2\n"
          ]
        }
      ]
    },
    {
      "cell_type": "markdown",
      "source": [
        "- `sort()` : **Ordena de menor a mayor** los elementos de la lista."
      ],
      "metadata": {
        "id": "oKFbdNPaS6gj"
      }
    },
    {
      "cell_type": "code",
      "source": [
        "num_list = [20, 40, 10, 50.4, 30, 100, 5]\n",
        "num_list.sort()\n",
        "print(num_list)\n",
        "\n",
        "# En el caso de las cadenas, por orden alfabético\n",
        "houses = [\"Gryffindor\", \"Hufflepuff\", \"Ravenclaw\", \"Slytherin\", \"Ravenclaw\"]\n",
        "houses.sort()\n",
        "print(houses)"
      ],
      "metadata": {
        "colab": {
          "base_uri": "https://localhost:8080/"
        },
        "id": "PG-VEZvdTegr",
        "outputId": "e8db9188-26dd-4679-90e8-819f6c2a3206"
      },
      "execution_count": null,
      "outputs": [
        {
          "output_type": "stream",
          "name": "stdout",
          "text": [
            "[5, 10, 20, 30, 40, 50.4, 100]\n",
            "['Gryffindor', 'Hufflepuff', 'Ravenclaw', 'Ravenclaw', 'Slytherin']\n"
          ]
        }
      ]
    },
    {
      "cell_type": "markdown",
      "source": [
        "- `reverse()` : **Invierte las posiciones** de todos los elementos de la lista."
      ],
      "metadata": {
        "id": "UPjWBPrWecef"
      }
    },
    {
      "cell_type": "code",
      "source": [
        "houses = [\"Gryffindor\", \"Hufflepuff\", \"Ravenclaw\", \"Slytherin\", \"Ravenclaw\"]\n",
        "houses.reverse()\n",
        "print(houses)"
      ],
      "metadata": {
        "colab": {
          "base_uri": "https://localhost:8080/"
        },
        "id": "EUzoZwT_etUr",
        "outputId": "650c4f80-fc85-4c90-80dd-da2e2b4fc2fb"
      },
      "execution_count": null,
      "outputs": [
        {
          "output_type": "stream",
          "name": "stdout",
          "text": [
            "['Ravenclaw', 'Slytherin', 'Ravenclaw', 'Hufflepuff', 'Gryffindor']\n"
          ]
        }
      ]
    },
    {
      "cell_type": "markdown",
      "source": [
        "### Tuplas\n",
        "\n",
        "Una tupla es una lista **cuyos elementos no pueden verse modificados** una vez han sido asignados. Posee métodos muy parecidos a las listas, puedes unirlas, buscar elementos, sacar porciones..."
      ],
      "metadata": {
        "id": "eknsn3Pwe1Hp"
      }
    },
    {
      "cell_type": "code",
      "source": [
        "# Declaración de una tupla\n",
        "car = (\"Ford\", \"Raptor\", 2019, \"Red\")\n",
        "print(car)"
      ],
      "metadata": {
        "colab": {
          "base_uri": "https://localhost:8080/"
        },
        "id": "-cHoOzPzfrEU",
        "outputId": "82a04a57-cb9d-4cf2-a968-1c265b63e99e"
      },
      "execution_count": null,
      "outputs": [
        {
          "output_type": "stream",
          "name": "stdout",
          "text": [
            "('Ford', 'Raptor', 2019, 'Red')\n"
          ]
        }
      ]
    },
    {
      "cell_type": "markdown",
      "source": [
        "### Diccionarios\n",
        "\n",
        "Es una estructura de datos que almacena los mismos en una **pareja clave-valor**, por lo que, un **valor solo puede ser accedido si indicamos la clave** única asociada a ese valor. El orden en el que estan ordenadas estas parejas es completamente aleatorio."
      ],
      "metadata": {
        "id": "MFZzrs0Yf7NH"
      }
    },
    {
      "cell_type": "code",
      "source": [
        "# Creación de un diccionario\n",
        "\n",
        "# empty_dict = dict()\n",
        "empty_dict = {}\n",
        "print(empty_dict)\n",
        "\n",
        "phone_book = {\"Batman\": 468426,\n",
        "              \"Cersei\": 237734,\n",
        "              \"Ghostbusters\": 44678}\n",
        "print(phone_book)\n",
        "\n",
        "# Accediendo a un elemento del diccionario a través de una de sus claves\n",
        "\n",
        "# print(phone_book.get(\"Batman\"))\n",
        "print(phone_book[\"Batman\"])"
      ],
      "metadata": {
        "colab": {
          "base_uri": "https://localhost:8080/"
        },
        "id": "NCafdNYsge66",
        "outputId": "c6862449-f456-4f69-d756-a9e6c51870ba"
      },
      "execution_count": null,
      "outputs": [
        {
          "output_type": "stream",
          "name": "stdout",
          "text": [
            "{}\n",
            "{'Batman': 468426, 'Cersei': 237734, 'Ghostbusters': 44678}\n",
            "468426\n"
          ]
        }
      ]
    },
    {
      "cell_type": "markdown",
      "source": [
        "Para trabajar con diccionarios necesitamos poder **editar, añadir, borrar, saber su longitud...**\n",
        "\n",
        "Estas son algunas de las operaciones más esenciales que podemos hacer con un diccionario"
      ],
      "metadata": {
        "id": "MTeprUwRiBxW"
      }
    },
    {
      "cell_type": "code",
      "source": [
        "# Añadiendo una entrada al diccionario\n",
        "phone_book[\"Godzilla\"] = 46394\n",
        "print(phone_book)\n",
        "\n",
        "# Actualizando una entrada del diccionario\n",
        "phone_book[\"Godzilla\"] = 9000\n",
        "print(phone_book)\n",
        "\n",
        "# Eliminando una entrada del diccionario\n",
        "del phone_book[\"Godzilla\"]\n",
        "print(phone_book)\n",
        "\n",
        "# Longitud de un diccionario\n",
        "print(len(phone_book))\n",
        "\n",
        "# Comprobar la exixtencia de una clave\n",
        "print(\"Batman\" in phone_book)\n",
        "\n",
        "# Copiando el contenido de un diccionario y añadiendolo a otro\n",
        "second_phone_book = {\"Catwoman\": 67423, \"Jaime\": 237734, \"Godzilla\": 37623}\n",
        "phone_book.update(second_phone_book)\n",
        "print(phone_book)"
      ],
      "metadata": {
        "colab": {
          "base_uri": "https://localhost:8080/"
        },
        "id": "DfzzJ_zSiCNp",
        "outputId": "78527477-172f-4ee7-9cc3-840bd4f0953e"
      },
      "execution_count": null,
      "outputs": [
        {
          "output_type": "stream",
          "name": "stdout",
          "text": [
            "{'Batman': 468426, 'Cersei': 237734, 'Ghostbusters': 44678, 'Godzilla': 46394}\n",
            "{'Batman': 468426, 'Cersei': 237734, 'Ghostbusters': 44678, 'Godzilla': 9000}\n",
            "{'Batman': 468426, 'Cersei': 237734, 'Ghostbusters': 44678}\n",
            "3\n",
            "True\n",
            "{'Batman': 468426, 'Cersei': 237734, 'Ghostbusters': 44678, 'Catwoman': 67423, 'Jaime': 237734, 'Godzilla': 37623}\n"
          ]
        }
      ]
    },
    {
      "cell_type": "markdown",
      "source": [
        "Al igual que en las listas y las tuplas, también es posible declarar diccionarios mediante compresión."
      ],
      "metadata": {
        "id": "XFjt3Isfiyp-"
      }
    },
    {
      "cell_type": "code",
      "source": [
        "houses = {1: \"Gryffindor\", 2: \"Slytherin\", 3: \"Hufflepuff\", 4: \"Ravenclaw\"}\n",
        "new_houses = {n**2: house + \"!\" for (n, house) in houses.items()}\n",
        "print(houses)\n",
        "print(new_houses)"
      ],
      "metadata": {
        "colab": {
          "base_uri": "https://localhost:8080/"
        },
        "id": "CX_Si-4si430",
        "outputId": "deec7ad0-c576-49f9-cf3b-8cfd677442fc"
      },
      "execution_count": null,
      "outputs": [
        {
          "output_type": "stream",
          "name": "stdout",
          "text": [
            "{1: 'Gryffindor', 2: 'Slytherin', 3: 'Hufflepuff', 4: 'Ravenclaw'}\n",
            "{1: 'Gryffindor!', 4: 'Slytherin!', 9: 'Hufflepuff!', 16: 'Ravenclaw!'}\n"
          ]
        }
      ]
    },
    {
      "cell_type": "markdown",
      "source": [
        "### Sets\n",
        "\n",
        "Esta es una de las estructuras de datos más simples. es básicamente una **colección de objetos desordenados**. Podemos añadir cualquier tipo de datos dentro de el e incluso podemos añadirle otras estructuras de datos dentro como una tupla. **No admite duplicados.**"
      ],
      "metadata": {
        "id": "VbqB2E3KB1de"
      }
    },
    {
      "cell_type": "code",
      "source": [
        "# Creacion de un set\n",
        "random_set = {\"Educative\", 1408, 3.142, (True, False)}\n",
        "other_set = set()\n",
        "print(random_set, other_set)"
      ],
      "metadata": {
        "colab": {
          "base_uri": "https://localhost:8080/"
        },
        "id": "vjSA475iC_oW",
        "outputId": "0f53e5ac-c28c-4405-d1b5-93c18bd4350c"
      },
      "execution_count": null,
      "outputs": [
        {
          "output_type": "stream",
          "name": "stdout",
          "text": [
            "{'Educative', (True, False), 3.142, 1408} set()\n"
          ]
        }
      ]
    },
    {
      "cell_type": "markdown",
      "source": [
        "Hay que tener cuidado con no confundir un set con un diccionario, ya que ambos se declaran con llaves."
      ],
      "metadata": {
        "id": "1g7YceoNDmhg"
      }
    },
    {
      "cell_type": "code",
      "source": [
        "ex1 = {} # Diccionario vacío\n",
        "ex2 = {\"sample text\", 1, 2} # Set\n",
        "ex3 = {\"clave\": \"valor\", \"clave2\": \"valor2\"} # Diccionario\n",
        "print(type(ex1))\n",
        "print(type(ex2))\n",
        "print(type(ex3))"
      ],
      "metadata": {
        "colab": {
          "base_uri": "https://localhost:8080/"
        },
        "id": "g2mntuW6MPma",
        "outputId": "2d755802-5de3-41a6-d09c-35616888a03a"
      },
      "execution_count": null,
      "outputs": [
        {
          "output_type": "stream",
          "name": "stdout",
          "text": [
            "<class 'dict'>\n",
            "<class 'set'>\n",
            "<class 'dict'>\n"
          ]
        }
      ]
    },
    {
      "cell_type": "markdown",
      "source": [
        "Las **principales operaciones** que podemos hacer con los Sets son:"
      ],
      "metadata": {
        "id": "nAjc99oGPQx7"
      }
    },
    {
      "cell_type": "code",
      "source": [
        "empty_set = set()\n",
        "\n",
        "# Añadir elementos\n",
        "empty_set.add(1)\n",
        "print(empty_set)\n",
        "\n",
        "# Comprobamos que no se puede añadir repetidos\n",
        "empty_set.add(1)\n",
        "print(empty_set)\n",
        "\n",
        "# Añadimos varios elementos a la vez\n",
        "empty_set.update([2, 3, 4, 5, 6])\n",
        "print(empty_set)\n",
        "\n",
        "# Borrar elementos\n",
        "empty_set.remove(1)\n",
        "empty_set.discard(7) # Discard no da error si no existe en el set\n",
        "print(empty_set)"
      ],
      "metadata": {
        "colab": {
          "base_uri": "https://localhost:8080/"
        },
        "id": "6ITU4E9RPhCj",
        "outputId": "a365dd98-4485-4c3e-87fb-5f9a7ba423b5"
      },
      "execution_count": null,
      "outputs": [
        {
          "output_type": "stream",
          "name": "stdout",
          "text": [
            "{1}\n",
            "{1}\n",
            "{1, 2, 3, 4, 5, 6}\n",
            "{2, 3, 4, 5, 6}\n"
          ]
        }
      ]
    },
    {
      "cell_type": "markdown",
      "source": [
        "Existen tres **operaciones especiales** que podemos realizar entre sets. Estas tienen semejanza con sus hermanas de la rama de matemáticas. Estas operaciones son:\n",
        "\n",
        "- `Unión (|)` : **Une** los elementos de **ambos sets** eliminando los repetidos."
      ],
      "metadata": {
        "id": "OeonTnhORGY2"
      }
    },
    {
      "cell_type": "code",
      "source": [
        "set_A = {1, 2, 3, 4}\n",
        "set_B = {'a', 'b', 'c', 'd'}\n",
        "\n",
        "print(set_A | set_B)\n",
        "\n",
        "# Otras formas de hacer la unión\n",
        "print(set_A.union(set_B))\n",
        "print(set_B.union(set_A))"
      ],
      "metadata": {
        "colab": {
          "base_uri": "https://localhost:8080/"
        },
        "id": "0l98bg5QSZ_1",
        "outputId": "6b3c89d2-00da-441b-a98f-19e8ef24d05c"
      },
      "execution_count": null,
      "outputs": [
        {
          "output_type": "stream",
          "name": "stdout",
          "text": [
            "{1, 2, 3, 4, 'b', 'd', 'a', 'c'}\n",
            "{1, 2, 3, 4, 'b', 'd', 'a', 'c'}\n",
            "{1, 2, 3, 4, 'b', 'd', 'a', 'c'}\n"
          ]
        }
      ]
    },
    {
      "cell_type": "markdown",
      "source": [
        "- `Intersección (&)` : Crea un set con los **elementos** que esten en **ambos sets.**"
      ],
      "metadata": {
        "id": "qGByFvssSrDF"
      }
    },
    {
      "cell_type": "code",
      "source": [
        "set_A = {1, 2, 3, 4}\n",
        "set_B = {2, 8, 4, 16}\n",
        "\n",
        "print(set_A & set_B)\n",
        "\n",
        "# Otras formas de hacer la intersección\n",
        "print(set_A.intersection(set_B))\n",
        "print(set_B.intersection(set_A))"
      ],
      "metadata": {
        "colab": {
          "base_uri": "https://localhost:8080/"
        },
        "id": "MiNHeN9OTF3h",
        "outputId": "acfd7217-3711-4a67-cf66-4a986250393d"
      },
      "execution_count": null,
      "outputs": [
        {
          "output_type": "stream",
          "name": "stdout",
          "text": [
            "{2, 4}\n",
            "{2, 4}\n",
            "{2, 4}\n"
          ]
        }
      ]
    },
    {
      "cell_type": "markdown",
      "source": [
        "- `Diferencia (-)` : Saca los elementos que **solo esten en el set al que le queremos restar** otro set."
      ],
      "metadata": {
        "id": "2-yh4i0uTbT1"
      }
    },
    {
      "cell_type": "code",
      "source": [
        "set_A = {1, 2, 3, 4}\n",
        "set_B = {2, 8, 4, 16}\n",
        "\n",
        "# A - B\n",
        "print(set_A - set_B)\n",
        "print(set_A.difference(set_B)) # Método alternativo\n",
        "\n",
        "# B - A\n",
        "print(set_B - set_A)\n",
        "print(set_B.difference(set_A)) # Método alternativo"
      ],
      "metadata": {
        "colab": {
          "base_uri": "https://localhost:8080/"
        },
        "id": "PgwuplcUTm7F",
        "outputId": "c19be706-4fd3-48b6-8767-378537fc1606"
      },
      "execution_count": null,
      "outputs": [
        {
          "output_type": "stream",
          "name": "stdout",
          "text": [
            "{1, 3}\n",
            "{1, 3}\n",
            "{8, 16}\n",
            "{8, 16}\n"
          ]
        }
      ]
    },
    {
      "cell_type": "markdown",
      "source": [
        "# Conversiones entre estructuras de datos\n",
        "\n",
        "En Pyhton es posible **transformar una estructura de datos en otra** que nos sea más conveniente. La única excepción en la que nos podemos encontrar con dificultades para transformar estructuras de datos es con los diccionarios, por lo que los explicaremos algo más aparte.\n",
        "\n",
        "Podemos cambiar la estructura de metiendo como argumento la estructura de origen en el **método constructo** de la estructura de fin:\n",
        "\n",
        "- Lista:  `list()`\n",
        "- Tupla: `tuple()`\n",
        "- Set: `set()`"
      ],
      "metadata": {
        "id": "PynX8Z2TUMhm"
      }
    },
    {
      "cell_type": "code",
      "source": [
        "ex1 = {\"sample\", 1, 23} # Creamos un set\n",
        "\n",
        "# Conversión a lista\n",
        "ex1 = list(ex1)\n",
        "print(ex1)\n",
        "\n",
        "# Conversión a tupla\n",
        "ex1 = tuple(ex1)\n",
        "print(ex1)\n",
        "\n",
        "# Conversión a Set\n",
        "ex1 = set(ex1)\n",
        "print(ex1)"
      ],
      "metadata": {
        "colab": {
          "base_uri": "https://localhost:8080/"
        },
        "id": "8X4EEHLEWdzm",
        "outputId": "00af90bc-477e-46e4-ab5d-3918b0ddeea2"
      },
      "execution_count": null,
      "outputs": [
        {
          "output_type": "stream",
          "name": "stdout",
          "text": [
            "[1, 'sample', 23]\n",
            "(1, 'sample', 23)\n",
            "{1, 'sample', 23}\n"
          ]
        }
      ]
    },
    {
      "cell_type": "markdown",
      "source": [
        "En el caso especial de un **diccionario**, cuando queramos **convertir un diccionario en otra estructura de datos**, si usamos el constructor **sin indicarle nada,** nos sacará las **claves** por defecto. Existen formas de sacar las claves, los valores o ambas y transformar el diccionario en otra estructura de datos:"
      ],
      "metadata": {
        "id": "huZszMuiX5yl"
      }
    },
    {
      "cell_type": "code",
      "source": [
        "phone_book = {\n",
        "  \"Batman\": 468426,\n",
        "  \"Cersei\": 237734,\n",
        "  \"Ghostbusters\": 44678\n",
        "}\n",
        "# Convertir solo las claves a una lista, tupla o set\n",
        "my_list = list(phone_book)\n",
        "my_set = set(phone_book.keys())\n",
        "print(my_list, my_set)\n",
        "\n",
        "# Convertir solo los valores a una lista, tupla o set\n",
        "my_list = list(phone_book.values())\n",
        "print(my_list)\n",
        "\n",
        "# Convertir claves y valores a una lista, tupla o set\n",
        "my_set = set(phone_book.items())\n",
        "print(my_set) # Podemos comprobar que cada elemento clave-valor es una tupla"
      ],
      "metadata": {
        "colab": {
          "base_uri": "https://localhost:8080/"
        },
        "id": "qIQ_9DMCTpl9",
        "outputId": "7c37061a-a056-4f80-a265-d62da959bff8"
      },
      "execution_count": null,
      "outputs": [
        {
          "output_type": "stream",
          "name": "stdout",
          "text": [
            "['Batman', 'Cersei', 'Ghostbusters'] {'Cersei', 'Ghostbusters', 'Batman'}\n",
            "[468426, 237734, 44678]\n",
            "{('Cersei', 237734), ('Ghostbusters', 44678), ('Batman', 468426)}\n"
          ]
        }
      ]
    },
    {
      "cell_type": "markdown",
      "source": [
        "También es posible hacer el proceso inverso, **transformar una estructura de datos a un diccionario**, para ello **cada índice de esa estructura de datos debe de ser una lista de dos elementos con la clave y el valor**."
      ],
      "metadata": {
        "id": "Jwrai9NrVZrZ"
      }
    },
    {
      "cell_type": "code",
      "source": [
        "star_wars_list = [[1,\"Anakin\"], [2,\"Darth Vader\"], [3, 1000]]\n",
        "star_wars_tup = ((1, \"Anakin\"), (2, \"Darth Vader\"), (3, 1000))\n",
        "star_wars_set = {(1, \"Anakin\"), (2, \"Darth Vader\"), (3, 1000)}\n",
        "\n",
        "star_wars_dict = dict(star_wars_list) # Conversión desde lista\n",
        "print(star_wars_dict)\n",
        "\n",
        "star_wars_dict = dict(star_wars_tup) # Conversión desde tupla\n",
        "print(star_wars_dict)\n",
        "\n",
        "star_wars_dict = dict(star_wars_set) # Conversión set\n",
        "print(star_wars_dict)"
      ],
      "metadata": {
        "colab": {
          "base_uri": "https://localhost:8080/"
        },
        "id": "oNc63QayVgN8",
        "outputId": "da7bbb8c-ef7d-4937-a91e-b05b0be267ec"
      },
      "execution_count": null,
      "outputs": [
        {
          "output_type": "stream",
          "name": "stdout",
          "text": [
            "{1: 'Anakin', 2: 'Darth Vader', 3: 1000}\n",
            "{1: 'Anakin', 2: 'Darth Vader', 3: 1000}\n",
            "{3: 1000, 1: 'Anakin', 2: 'Darth Vader'}\n"
          ]
        }
      ]
    },
    {
      "cell_type": "markdown",
      "source": [
        "# Librerías\n",
        "\n",
        "Una librería es un **conjunto de implementaciones funcionales** (módulos), las cuales contienen una serie de funciones que nos pueden ser de utilidad.\n",
        "\n",
        "Por defecto, Python incluye una serie de librerías, lo que se conoce como PSL (Python Standard Library).\n",
        "\n",
        "Para poder **implementar un módulo** en python, simplemete tenemos que usar la palabra reservada `import` :\n",
        "```\n",
        "import module_name\n",
        "\n",
        "```\n",
        "\n",
        "Si no queremos tener que estar escribiendo todo el rato el nombre del modulo, podemos **asignarle un alias** más corto:\n",
        "\n",
        "```\n",
        "import module_name as alias_name\n",
        "\n",
        "```\n",
        "\n",
        "también es posible **implementar una clase en particular** de ese módulo para no tener que implementar el módulo entero:\n",
        "\n",
        "```\n",
        "from module_name import class_name\n",
        "\n",
        "```\n",
        "\n",
        "Algunos módulos populares del PSL son:\n",
        "\n",
        "- `math` : Implementa un amplio rango de funciones matemáticas como el factorial, operaciones trigonométricas...\n",
        "\n",
        "- `heapq`: Implementa la estructura de datos *heap*, que es un árbol binario que siempre almacena un valor especial en su raíz. \n",
        "\n",
        "- `random` : Es la librería usada para la generación de números aleatorios.\n",
        "\n",
        "Como bien hemos mencionado antes, Python viene con un gran número de módulos ya implementados, pero también **podemos descargar nuevos paquetes de internet** para agregarlos a nuestra librería. Estos paquetes pueden ser encontrados en **PyPI** (Pyhton Package Index) y son de lo más variados. Algunos de los paquetes más utilizados son numPy, Matplotlib, Scrapy, Request, pyGame, Django... y un montón más que podemos descargar para múltiples propósitos como creación de redes neuronales, procesamiento de texto, criptografía...\n",
        "\n",
        "\n",
        "# Conclusiones finales\n",
        "\n",
        "Esta documentación va a resultar muy útil para consultar ciertas dudas que nos puedan surgir a lo largo de nuestro aprendizaje de Pyhton, muchas de ellas de tanto consultarlas nos las acabaremos aprendiendo de memoria. Esta es solo una documentación básica, una vez se nos abre el mundo de los paquetes externos de Pyhton las posibilidades son infinitas, por lo que si tienes alguna duda relacionada con un módulo, lo mejor es que busques la documentación oficial de ese módulo.\n",
        "\n",
        "Muchas gracias por llegar hasta el final y adios mundo!"
      ],
      "metadata": {
        "id": "13PohwewagoS"
      }
    }
  ]
}